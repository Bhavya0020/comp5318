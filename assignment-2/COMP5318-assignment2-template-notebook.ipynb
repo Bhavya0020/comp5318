{
 "cells": [
  {
   "cell_type": "markdown",
   "id": "fc4122b0",
   "metadata": {},
   "source": [
    "# COMP4318/5318 Assignment 2: Image Classification"
   ]
  },
  {
   "cell_type": "markdown",
   "id": "af9f508e",
   "metadata": {},
   "source": [
    "### Group number: ...  , SID1: ... , SID2: ..., SID3: ... "
   ]
  },
  {
   "cell_type": "markdown",
   "id": "e24652d1",
   "metadata": {},
   "source": [
    "This template notebook includes code to load the  dataset and a skeleton for the main sections that should be included in the notebook. Please stick to this struture for your submitted notebook.\n",
    "\n",
    "Please focus on making your code clear, with appropriate variable names and whitespace. Include comments and markdown text to aid the readability of your code where relevant. See the specification and marking criteria in the associated specification to guide you when completing your implementation."
   ]
  },
  {
   "cell_type": "markdown",
   "id": "fe1144e1",
   "metadata": {},
   "source": [
    "## Setup and dependencies\n",
    "Please use this section to list and set up all your required libraries/dependencies and your plotting environment. "
   ]
  },
  {
   "cell_type": "code",
   "execution_count": 2,
   "id": "11ab0507",
   "metadata": {},
   "outputs": [],
   "source": [
    "import numpy as np"
   ]
  },
  {
   "cell_type": "markdown",
   "id": "9bc35bce",
   "metadata": {},
   "source": [
    "## 1. Data loading, exploration, and preprocessing\n"
   ]
  },
  {
   "cell_type": "markdown",
   "id": "7495a12e-9b9d-48f8-9d2a-abbd01c5a594",
   "metadata": {},
   "source": [
    "Code to load the dataset is provided in the following cell. Please proceed with your data exploration and preprocessing in the remainder of this section."
   ]
  },
  {
   "cell_type": "code",
   "execution_count": null,
   "id": "a991e631",
   "metadata": {},
   "outputs": [],
   "source": [
    "# Load the dataset training and test sets as numpy arrays\n",
    "X_train = np.load('Assignment2Data/X_train.npy')\n",
    "y_train = np.load('Assignment2Data/y_train.npy')\n",
    "X_test = np.load('Assignment2Data/X_test.npy')\n",
    "y_test = np.load('Assignment2Data/y_test.npy')\n",
    "\n",
    "#normalize the data\n",
    "X_train = X_train / 255\n",
    "X_test = X_test / 255\n",
    "\n",
    "# convert images to grayscale for feature extraction\n",
    "from skimage.color import rgb2gray\n",
    "X_train_gray = np.array([rgb2gray(image) for image in X_train])\n",
    "X_test_gray = np.array([rgb2gray(image) for image in X_test])\n",
    "\n",
    "#convert labels to one-hot encoding\n",
    "from sklearn.preprocessing import LabelBinarizer\n",
    "encoder = LabelBinarizer()\n",
    "y_train = encoder.fit_transform(y_train.reshape(-1, 1))\n",
    "y_test = encoder.transform(y_test.reshape(-1, 1))\n",
    "\n",
    "#split training sets into training and validation\n",
    "from sklearn.model_selection import train_test_split\n",
    "X_train, X_val, y_train, y_val = train_test_split(X_train, y_train, test_size=0.2, random_state=42)\n",
    "X_train_gray, X_val_gray = train_test_split(X_train_gray, test_size=0.2, random_state=42)"
   ]
  },
  {
   "cell_type": "markdown",
   "id": "68c97ca0-15b8-4101-b6b5-b76431c3ca17",
   "metadata": {},
   "source": [
    "### Examples of preprocessed data\n",
    "Please print/display some examples of your preprocessed data here."
   ]
  },
  {
   "cell_type": "markdown",
   "id": "c81bb2b0",
   "metadata": {},
   "source": [
    "## 2. Algorithm design and setup"
   ]
  },
  {
   "cell_type": "markdown",
   "id": "0c873320",
   "metadata": {},
   "source": [
    "### Algorithm of choice from first six weeks of course"
   ]
  },
  {
   "cell_type": "markdown",
   "id": "b895ee03",
   "metadata": {},
   "source": [
    "### Fully connected neural network"
   ]
  },
  {
   "cell_type": "markdown",
   "id": "63aa570f",
   "metadata": {},
   "source": [
    "### Convolutional neural network"
   ]
  },
  {
   "cell_type": "markdown",
   "id": "3b4911b1",
   "metadata": {},
   "source": [
    "## 3. Hyperparameter tuning"
   ]
  },
  {
   "cell_type": "markdown",
   "id": "71085600",
   "metadata": {},
   "source": [
    "### Algorithm of choice from first six weeks of course"
   ]
  },
  {
   "cell_type": "markdown",
   "id": "08d2d615",
   "metadata": {},
   "source": [
    "### Fully connected neural network"
   ]
  },
  {
   "cell_type": "markdown",
   "id": "57c76117",
   "metadata": {},
   "source": [
    "### Convolutional neural network"
   ]
  },
  {
   "cell_type": "markdown",
   "id": "eead5c82",
   "metadata": {},
   "source": [
    "## 4. Final models\n",
    "In this section, please ensure to include cells to train each model with its best hyperparmater combination independently of the hyperparameter tuning cells, i.e. don't rely on the hyperparameter tuning cells having been run."
   ]
  },
  {
   "cell_type": "markdown",
   "id": "e1e56a6c",
   "metadata": {},
   "source": [
    "### Algorithm of choice from first six weeks of course"
   ]
  },
  {
   "cell_type": "markdown",
   "id": "fe676a86",
   "metadata": {},
   "source": [
    "### Fully connected neural network"
   ]
  },
  {
   "cell_type": "markdown",
   "id": "34c4ab78",
   "metadata": {},
   "source": [
    "### Convolutional neural network"
   ]
  }
 ],
 "metadata": {
  "kernelspec": {
   "display_name": "Python 3",
   "language": "python",
   "name": "python3"
  },
  "language_info": {
   "codemirror_mode": {
    "name": "ipython",
    "version": 3
   },
   "file_extension": ".py",
   "mimetype": "text/x-python",
   "name": "python",
   "nbconvert_exporter": "python",
   "pygments_lexer": "ipython3",
   "version": "3.11.11"
  }
 },
 "nbformat": 4,
 "nbformat_minor": 5
}
